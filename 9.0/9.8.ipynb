{
 "cells": [
  {
   "cell_type": "markdown",
   "id": "629ffc52",
   "metadata": {},
   "source": [
    "SPECAN点目标仿真"
   ]
  },
  {
   "cell_type": "code",
   "execution_count": 1,
   "id": "98134713",
   "metadata": {},
   "outputs": [],
   "source": [
    "import numpy as np\n",
    "import matplotlib.pyplot as plt\n",
    "import scipy.signal as ss\n",
    "import scipy.fftpack as sf\n",
    "import scipy.constants as sc"
   ]
  },
  {
   "cell_type": "code",
   "execution_count": 2,
   "id": "0536c6f0",
   "metadata": {},
   "outputs": [],
   "source": [
    "Vr = 7100\n",
    "Height = 800e+3  # 卫星高度\n",
    "Tr = 40e-6\n",
    "Kr = 0.5e+12\n",
    "f0 = 5.3e+09\n",
    "\n",
    "Fr = 24e+6 \n",
    "Fa = 1700   #PRF\n",
    "# delta_fdop = 1338\n",
    "theta_sqc = 3*np.pi/180\n",
    "theta_rc = 3*np.pi/180\n",
    "\n",
    "Ta = 0.64\n",
    "La = 10\n",
    "off_nadir_angel = 20*np.pi/180"
   ]
  },
  {
   "cell_type": "code",
   "execution_count": null,
   "id": "037caf09",
   "metadata": {},
   "outputs": [
    {
     "name": "stdout",
     "output_type": "stream",
     "text": [
      "R0: 850175.483059023 m\n",
      "R_etac: 851342.2179807296 m\n"
     ]
    }
   ],
   "source": [
    "R_etac = Height / np.cos(off_nadir_angel)  # 850e+3\n",
    "R0 = R_etac * np.cos(theta_sqc)  # 850e+3 * cos(3°)\n",
    "print(\"R0:\", R0, \"m\")\n",
    "print(\"R_etac:\", R_etac, \"m\")\n",
    "\n",
    "Naz = Ta*Fa\n",
    "Nrg = Tr*Fr\n",
    "\n",
    "N_az = int(2*Naz)\n",
    "N_rg = int(2*Nrg)\n",
    "\n",
    "eta = np.linspace(-Ta, Ta - 1/Fa, N_az)\n",
    "tau = np.linspace(-Tr, Tr - 1/Fr, N_rg) \n",
    "eta = eta.reshape(N_az,1)\n",
    "tau = tau.reshape(1,N_rg)\n"
   ]
  }
 ],
 "metadata": {
  "kernelspec": {
   "display_name": "Radar",
   "language": "python",
   "name": "python3"
  },
  "language_info": {
   "codemirror_mode": {
    "name": "ipython",
    "version": 3
   },
   "file_extension": ".py",
   "mimetype": "text/x-python",
   "name": "python",
   "nbconvert_exporter": "python",
   "pygments_lexer": "ipython3",
   "version": "3.12.11"
  }
 },
 "nbformat": 4,
 "nbformat_minor": 5
}
